{
 "cells": [
  {
   "cell_type": "markdown",
   "metadata": {},
   "source": [
    "# Simple Linear Regression Analysis"
   ]
  },
  {
   "cell_type": "markdown",
   "metadata": {},
   "source": [
    "Consider the relationship between the total weight of a shipment of 50-pound bags of flour, `y` and the number of bags in the shipment, `x`. From the records of past our shipments, 30 shipments were randomly chosen and the data can be found in `flour.csv`, which contains:\n",
    "- `weight`: weight of the shipment\n",
    "- `bag`: number of 50-pound bags in the shipment"
   ]
  },
  {
   "cell_type": "code",
   "execution_count": 1,
   "metadata": {},
   "outputs": [
    {
     "data": {
      "text/html": [
       "<table>\n",
       "<thead><tr><th scope=col>weight</th><th scope=col>bag</th></tr></thead>\n",
       "<tbody>\n",
       "\t<tr><td> 5050</td><td>100  </td></tr>\n",
       "\t<tr><td>10249</td><td>205  </td></tr>\n",
       "\t<tr><td>22248</td><td>435  </td></tr>\n",
       "\t<tr><td> 7420</td><td>150  </td></tr>\n",
       "\t<tr><td>24685</td><td>500  </td></tr>\n",
       "\t<tr><td>10206</td><td>200  </td></tr>\n",
       "</tbody>\n",
       "</table>\n"
      ],
      "text/latex": [
       "\\begin{tabular}{r|ll}\n",
       " weight & bag\\\\\n",
       "\\hline\n",
       "\t  5050 & 100  \\\\\n",
       "\t 10249 & 205  \\\\\n",
       "\t 22248 & 435  \\\\\n",
       "\t  7420 & 150  \\\\\n",
       "\t 24685 & 500  \\\\\n",
       "\t 10206 & 200  \\\\\n",
       "\\end{tabular}\n"
      ],
      "text/markdown": [
       "\n",
       "| weight | bag |\n",
       "|---|---|\n",
       "|  5050 | 100   |\n",
       "| 10249 | 205   |\n",
       "| 22248 | 435   |\n",
       "|  7420 | 150   |\n",
       "| 24685 | 500   |\n",
       "| 10206 | 200   |\n",
       "\n"
      ],
      "text/plain": [
       "  weight bag\n",
       "1  5050  100\n",
       "2 10249  205\n",
       "3 22248  435\n",
       "4  7420  150\n",
       "5 24685  500\n",
       "6 10206  200"
      ]
     },
     "metadata": {},
     "output_type": "display_data"
    }
   ],
   "source": [
    "# Loading data set\n",
    "data <- read.csv(\"flour.csv\",header=T)\n",
    "head(data) #First 5 rows of the data set"
   ]
  },
  {
   "cell_type": "code",
   "execution_count": 2,
   "metadata": {},
   "outputs": [
    {
     "data": {
      "image/png": "[encoded data removed]",
      "text/plain": [
       "plot without title"
      ]
     },
     "metadata": {},
     "output_type": "display_data"
    }
   ],
   "source": [
    "# Scatterplot of weight vs bags\n",
    "options(repr.plot.width=8, repr.plot.height=4, repr.plot.res = 85)\n",
    "plot(data$weight~data$bag, xlab = \"Number of 50-pound bags\", ylab = \"Weight of shipment (tonnes)\", \n",
    "     pch = 16,cex = 1)"
   ]
  },
  {
   "cell_type": "code",
   "execution_count": 3,
   "metadata": {
    "scrolled": true
   },
   "outputs": [
    {
     "data": {
      "text/html": [
       "<dl class=dl-horizontal>\n",
       "\t<dt>(Intercept)</dt>\n",
       "\t\t<dd>170.488043922117</dd>\n",
       "\t<dt>bag</dt>\n",
       "\t\t<dd>48.5357144675569</dd>\n",
       "</dl>\n"
      ],
      "text/latex": [
       "\\begin{description*}\n",
       "\\item[(Intercept)] 170.488043922117\n",
       "\\item[bag] 48.5357144675569\n",
       "\\end{description*}\n"
      ],
      "text/markdown": [
       "(Intercept)\n",
       ":   170.488043922117bag\n",
       ":   48.5357144675569\n",
       "\n"
      ],
      "text/plain": [
       "(Intercept)         bag \n",
       "  170.48804    48.53571 "
      ]
     },
     "metadata": {},
     "output_type": "display_data"
    }
   ],
   "source": [
    "# Fitting a simple linear regression model\n",
    "model <- lm(weight~bag,data=data)\n",
    "beta.hat <- coef(model)\n",
    "beta.hat"
   ]
  },
  {
   "cell_type": "markdown",
   "metadata": {},
   "source": [
    "Let `y` be the weight of shipment and `x` is the number of 50-pound bags in the shipment, the line of best fit is\n",
    "$\\hat{y} = 170.48804 + 48.5357x$."
   ]
  },
  {
   "cell_type": "code",
   "execution_count": 4,
   "metadata": {},
   "outputs": [
    {
     "data": {
      "image/png": "[encoded data removed]",
      "text/plain": [
       "plot without title"
      ]
     },
     "metadata": {},
     "output_type": "display_data"
    }
   ],
   "source": [
    "# Plot the residual vs. fitted values\n",
    "yhat <- predict(model) #point estimates at x's in data\n",
    "res <- resid(model) #residuals\n",
    "sigma.hat <- sqrt(sum(res^2)/model$df)\n",
    "z <- res/sigma.hat #standardized residuals\n",
    "\n",
    "plot(yhat,res,pch = 16, cex = 1, xlab = expression(hat(y)[i]==hat(beta)[0] + hat(beta)[1]*x[i]), ylab = expression(e[i]==y[i]-hat(y)[i]))\n",
    "abline(h = 0, lty = 2)"
   ]
  },
  {
   "cell_type": "code",
   "execution_count": 5,
   "metadata": {},
   "outputs": [
    {
     "data": {
      "image/png": "[encoded data removed]",
      "text/plain": [
       "Plot with title \"Normal Q-Q Plot\""
      ]
     },
     "metadata": {},
     "output_type": "display_data"
    }
   ],
   "source": [
    "# QQ-plot of the standardized residuals\n",
    "qqnorm(res,pch = 16, cex = 1) #QQ plot\n",
    "abline(qqline(res),col = \"red\", lty = 2) "
   ]
  },
  {
   "cell_type": "markdown",
   "metadata": {},
   "source": [
    "The residual plot does not show any obvious pattern. However, most of the points in the QQ-plot do not lie on the straight line, suggesting potential problem with the model."
   ]
  },
  {
   "cell_type": "markdown",
   "metadata": {},
   "source": [
    "Since a shipment containing zero bag has a total weight of zero, a straight-line model of the relationship between `x` and `y` should pass through the point `x = 0` and `y = 0`."
   ]
  },
  {
   "cell_type": "code",
   "execution_count": 6,
   "metadata": {},
   "outputs": [
    {
     "data": {
      "text/html": [
       "<strong>bag:</strong> 48.9903544067277"
      ],
      "text/latex": [
       "\\textbf{bag:} 48.9903544067277"
      ],
      "text/markdown": [
       "**bag:** 48.9903544067277"
      ],
      "text/plain": [
       "     bag \n",
       "48.99035 "
      ]
     },
     "metadata": {},
     "output_type": "display_data"
    }
   ],
   "source": [
    "# Find the least squares line for the given data under the assumption that B_0 = 0\n",
    "model2 <- lm(weight~bag-1,data=data)\n",
    "beta.hat <- coef(model2)\n",
    "beta.hat"
   ]
  },
  {
   "cell_type": "markdown",
   "metadata": {},
   "source": [
    "Let `y` be the weight of shipment and `x` is the number of 50-pound bags in the shipment, the line of best fit is\n",
    "$\\hat{y} = 48.9904x$."
   ]
  },
  {
   "cell_type": "code",
   "execution_count": 7,
   "metadata": {},
   "outputs": [
    {
     "data": {
      "image/png": "[encoded data removed]",
      "text/plain": [
       "plot without title"
      ]
     },
     "metadata": {},
     "output_type": "display_data"
    }
   ],
   "source": [
    "# Based on the model2, plot the residual vs. fitted values\n",
    "yhat2 <- predict(model2)\n",
    "res2 <- resid(model2) \n",
    "sigma.hat2 <- sqrt(sum(res2^2)/model2$df)\n",
    "z2 <- res2/sigma.hat2\n",
    "\n",
    "plot(yhat2,res2,pch = 16, cex = 1, xlab = expression(hat(y)[i]==hat(beta)[0] + hat(beta)[1]*x[i]), ylab = expression(e[i]==y[i]-hat(y)[i]))\n",
    "abline(h = 0, lty = 2)"
   ]
  },
  {
   "cell_type": "code",
   "execution_count": 8,
   "metadata": {},
   "outputs": [
    {
     "data": {
      "image/png": "[encoded data removed]",
      "text/plain": [
       "Plot with title \"Normal Q-Q Plot\""
      ]
     },
     "metadata": {},
     "output_type": "display_data"
    }
   ],
   "source": [
    "qqnorm(res2,pch = 16, cex = 1) #QQ plot\n",
    "abline(qqline(res2),col = \"red\", lty = 2) "
   ]
  },
  {
   "cell_type": "markdown",
   "metadata": {},
   "source": [
    "The residual plot does not show any obvious pattern, indicating no obvious violation of assumptions. The points in the QQ-plot lie closer to the straight line, except a few on the far left. It is reasonable to conclude that there is\n",
    "no violation of assumptions."
   ]
  },
  {
   "cell_type": "code",
   "execution_count": 9,
   "metadata": {},
   "outputs": [
    {
     "data": {
      "text/plain": [
       "\n",
       "Call:\n",
       "lm(formula = weight ~ bag, data = data)\n",
       "\n",
       "Residuals:\n",
       "   Min     1Q Median     3Q    Max \n",
       "-887.6 -321.1 -125.0  307.9  975.9 \n",
       "\n",
       "Coefficients:\n",
       "            Estimate Std. Error t value Pr(>|t|)    \n",
       "(Intercept) 170.4880   184.9878   0.922    0.365    \n",
       "bag          48.5357     0.5687  85.351   <2e-16 ***\n",
       "---\n",
       "Signif. codes:  0 '***' 0.001 '**' 0.01 '*' 0.05 '.' 0.1 ' ' 1\n",
       "\n",
       "Residual standard error: 504 on 28 degrees of freedom\n",
       "Multiple R-squared:  0.9962,\tAdjusted R-squared:  0.996 \n",
       "F-statistic:  7285 on 1 and 28 DF,  p-value: < 2.2e-16\n"
      ]
     },
     "metadata": {},
     "output_type": "display_data"
    }
   ],
   "source": [
    "summary(model)"
   ]
  },
  {
   "cell_type": "markdown",
   "metadata": {},
   "source": [
    "Based on the above summary of the first model, which contains the intercept, shows that the p-value for the hypothesis test $H_{0}: \\beta_0 = 0$ vs $H_{a}: \\beta_0 \\neq 0$, is 0.365. The p-value indicates no evidence to reject $H_{0}$, and hence, it is reasonable to exclude the intercept from the model. From hereon, we will use the model without an intercept."
   ]
  },
  {
   "cell_type": "code",
   "execution_count": 10,
   "metadata": {},
   "outputs": [
    {
     "data": {
      "text/html": [
       "<table>\n",
       "<thead><tr><th></th><th scope=col>0.5 %</th><th scope=col>99.5 %</th></tr></thead>\n",
       "<tbody>\n",
       "\t<tr><th scope=row>bag</th><td>48.21266</td><td>49.76805</td></tr>\n",
       "</tbody>\n",
       "</table>\n"
      ],
      "text/latex": [
       "\\begin{tabular}{r|ll}\n",
       "  & 0.5 \\% & 99.5 \\%\\\\\n",
       "\\hline\n",
       "\tbag & 48.21266 & 49.76805\\\\\n",
       "\\end{tabular}\n"
      ],
      "text/markdown": [
       "\n",
       "| <!--/--> | 0.5 % | 99.5 % |\n",
       "|---|---|---|\n",
       "| bag | 48.21266 | 49.76805 |\n",
       "\n"
      ],
      "text/plain": [
       "    0.5 %    99.5 %  \n",
       "bag 48.21266 49.76805"
      ]
     },
     "metadata": {},
     "output_type": "display_data"
    }
   ],
   "source": [
    "# Based on the recommended model, construct and interpret the 99% CI for the slope\n",
    "confint(model2,level=0.99)"
   ]
  },
  {
   "cell_type": "markdown",
   "metadata": {},
   "source": [
    "We are 99% confident that the true, but unknown slope lies between 48.2127 and 49.7681."
   ]
  }
 ],
 "metadata": {
  "kernelspec": {
   "display_name": "R",
   "language": "R",
   "name": "ir"
  },
  "language_info": {
   "codemirror_mode": "r",
   "file_extension": ".r",
   "mimetype": "text/x-r-source",
   "name": "R",
   "pygments_lexer": "r",
   "version": "3.6.1"
  }
 },
 "nbformat": 4,
 "nbformat_minor": 4
}
